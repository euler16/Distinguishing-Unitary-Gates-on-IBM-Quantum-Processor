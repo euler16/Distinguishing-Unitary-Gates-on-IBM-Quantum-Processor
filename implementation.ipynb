{
 "cells": [
  {
   "cell_type": "markdown",
   "metadata": {},
   "source": [
    "# Distinguishing Unitary Gates on IBM Processor"
   ]
  },
  {
   "cell_type": "markdown",
   "metadata": {},
   "source": [
    "Implementation of https://arxiv.org/pdf/1807.00429.pdf"
   ]
  },
  {
   "cell_type": "code",
   "execution_count": 1,
   "metadata": {},
   "outputs": [
    {
     "name": "stdout",
     "output_type": "stream",
     "text": [
      "Qconfig loaded from ../Qconfig.py.\n",
      "0.6.1\n"
     ]
    }
   ],
   "source": [
    "import sys, time\n",
    "sys.path.append(\"../\")\n",
    "import Qconfig\n",
    "qx_config = {\n",
    "        \"APItoken\": Qconfig.APItoken,\n",
    "        \"url\": Qconfig.config['url']}\n",
    "print('Qconfig loaded from %s.' % Qconfig.__file__)\n",
    "\n",
    "\n",
    "# Imports\n",
    "import qiskit as qk\n",
    "from qiskit import QuantumCircuit, ClassicalRegister, QuantumRegister\n",
    "from qiskit import available_backends, execute, register, least_busy\n",
    "from qiskit.tools.visualization import plot_histogram\n",
    "\n",
    "from qiskit import IBMQ\n",
    "from qiskit import Aer\n",
    "\n",
    "from math import pi\n",
    "print(qk.__version__)"
   ]
  },
  {
   "cell_type": "markdown",
   "metadata": {},
   "source": [
    "## Parallel Scheme"
   ]
  },
  {
   "cell_type": "code",
   "execution_count": 26,
   "metadata": {},
   "outputs": [],
   "source": [
    "qr = QuantumRegister(2)\n",
    "cr = ClassicalRegister(2)\n",
    "qc = QuantumCircuit(qr,cr)"
   ]
  },
  {
   "cell_type": "code",
   "execution_count": 27,
   "metadata": {},
   "outputs": [
    {
     "data": {
      "text/plain": [
       "<qiskit._instructionset.InstructionSet at 0x7fd4df6ff550>"
      ]
     },
     "execution_count": 27,
     "metadata": {},
     "output_type": "execute_result"
    }
   ],
   "source": [
    "# circuit construction\n",
    "\n",
    "# preparing the wavefunction\n",
    "qc.h(qr[0])\n",
    "qc.barrier()\n",
    "\n",
    "qc.cx(qr[0], qr[1])\n",
    "qc.barrier()\n",
    "\n",
    "qc.u3(1.2309,0,0,qr[0])\n",
    "qc.barrier()\n",
    "\n",
    "# if we apply phase shift gate\n",
    "qc.u1((2.0/3)*pi,qr[0])\n",
    "qc.u1((2.0/3)*pi,qr[1])\n",
    "qc.barrier()\n",
    "\n",
    "# rotating the axis for measurement\n",
    "#qc.cx(qr[0],qr[1]) # THE IMPLEMENTATION PROVIDED BY THE AUTHORS SKIPS THIS CNOT APPLICATION!!! it shouldn't be\n",
    "# it shouldn't be there. Improves accuracy\n",
    "#qc.barrier()\n",
    "\n",
    "qc.u3(2.1862,6.5449,pi,qr[0])\n",
    "qc.u3(0.9553,2*pi,pi,qr[1])\n",
    "qc.barrier()\n",
    "\n",
    "qc.measure(qr,cr)\n"
   ]
  },
  {
   "cell_type": "code",
   "execution_count": 28,
   "metadata": {},
   "outputs": [
    {
     "name": "stdout",
     "output_type": "stream",
     "text": [
      "[<QasmSimulatorPy('qasm_simulator_py') from Aer()>, <StatevectorSimulatorPy('statevector_simulator_py') from Aer()>, <UnitarySimulator('unitary_simulator') from Aer()>]\n"
     ]
    }
   ],
   "source": [
    "# Running locally IBM backends respond too slowly\n",
    "print(Aer.backends())\n",
    "backend = Aer.get_backend('qasm_simulator')\n",
    "job = execute(qc,backend)"
   ]
  },
  {
   "cell_type": "code",
   "execution_count": 29,
   "metadata": {},
   "outputs": [
    {
     "data": {
      "text/plain": [
       "<bound method AerJob.status of <qiskit.backends.aer.aerjob.AerJob object at 0x7fd4df879940>>"
      ]
     },
     "execution_count": 29,
     "metadata": {},
     "output_type": "execute_result"
    }
   ],
   "source": [
    "job.status"
   ]
  },
  {
   "cell_type": "code",
   "execution_count": 30,
   "metadata": {},
   "outputs": [
    {
     "name": "stdout",
     "output_type": "stream",
     "text": [
      "{'01': 510, '10': 514}\n"
     ]
    },
    {
     "data": {
      "image/png": "[encoded data removed]",
      "text/plain": [
       "<Figure size 432x288 with 1 Axes>"
      ]
     },
     "metadata": {
      "needs_background": "light"
     },
     "output_type": "display_data"
    }
   ],
   "source": [
    "result = job.result()\n",
    "counts = result.get_counts(qc)\n",
    "print(counts)\n",
    "\n",
    "plot_histogram(counts)"
   ]
  },
  {
   "cell_type": "markdown",
   "metadata": {},
   "source": [
    "According to the paper 01 and 10 implies R2pi3 gate"
   ]
  },
  {
   "cell_type": "code",
   "execution_count": 33,
   "metadata": {},
   "outputs": [
    {
     "data": {
      "image/png": "[encoded data removed]",
      "text/plain": [
       "<Figure size 432x288 with 1 Axes>"
      ]
     },
     "metadata": {
      "needs_background": "light"
     },
     "output_type": "display_data"
    }
   ],
   "source": [
    "performance = {\n",
    "    'success':(counts['01']+counts['10'])/1024,\n",
    "    'failure':1 - (counts['01']+counts['10'])/1024\n",
    "}\n",
    "\n",
    "plot_histogram(performance)"
   ]
  },
  {
   "cell_type": "markdown",
   "metadata": {},
   "source": [
    "Read https://arxiv.org/pdf/1712.04722.pdf to understand IBM backend architecture and coupling maps"
   ]
  },
  {
   "cell_type": "code",
   "execution_count": 34,
   "metadata": {},
   "outputs": [
    {
     "name": "stderr",
     "output_type": "stream",
     "text": [
      "/home/vaio/Documents/Research/Quantum/btp/Playing-with-Qunatum-Computing/qpy/lib/python3.5/site-packages/qiskit/backends/ibmq/ibmqprovider.py:258: UserWarning: Credentials are already in use.\n",
      "  warnings.warn('Credentials are already in use.')\n"
     ]
    }
   ],
   "source": [
    "IBMQ.load_accounts()"
   ]
  },
  {
   "cell_type": "code",
   "execution_count": 35,
   "metadata": {},
   "outputs": [
    {
     "name": "stdout",
     "output_type": "stream",
     "text": [
      "[<IBMQBackend('ibmqx4') from IBMQ()>, <IBMQBackend('ibmqx5') from IBMQ()>, <IBMQBackend('ibmqx2') from IBMQ()>, <IBMQBackend('ibmq_16_melbourne') from IBMQ()>]\n"
     ]
    }
   ],
   "source": [
    "# checking the backends\n",
    "large_enough_devices = IBMQ.backends(filters=lambda x: x.configuration()['n_qubits'] > 1 and not x.configuration()['simulator'])\n",
    "print(large_enough_devices)"
   ]
  },
  {
   "cell_type": "code",
   "execution_count": 36,
   "metadata": {},
   "outputs": [],
   "source": [
    "backend = IBMQ.get_backend('ibmqx4')\n",
    "job = execute(qc,backend,max_credits=3)"
   ]
  },
  {
   "cell_type": "code",
   "execution_count": 39,
   "metadata": {},
   "outputs": [
    {
     "data": {
      "text/plain": [
       "<bound method IBMQJob.status of <qiskit.backends.ibmq.ibmqjob.IBMQJobPreQobj object at 0x7fd4df67ba20>>"
      ]
     },
     "execution_count": 39,
     "metadata": {},
     "output_type": "execute_result"
    }
   ],
   "source": [
    "job.status"
   ]
  },
  {
   "cell_type": "code",
   "execution_count": 38,
   "metadata": {},
   "outputs": [
    {
     "name": "stdout",
     "output_type": "stream",
     "text": [
      "{'01': 408, '10': 455, '00': 117, '11': 44}\n"
     ]
    },
    {
     "data": {
      "image/png": "[encoded data removed]",
      "text/plain": [
       "<Figure size 432x288 with 1 Axes>"
      ]
     },
     "metadata": {
      "needs_background": "light"
     },
     "output_type": "display_data"
    },
    {
     "data": {
      "image/png": "[encoded data removed]",
      "text/plain": [
       "<Figure size 432x288 with 1 Axes>"
      ]
     },
     "metadata": {
      "needs_background": "light"
     },
     "output_type": "display_data"
    }
   ],
   "source": [
    "result = job.result()\n",
    "counts = result.get_counts(qc)\n",
    "print(counts)\n",
    "\n",
    "plot_histogram(counts)\n",
    "\n",
    "performance = {\n",
    "    'success':(counts['01']+counts['10'])/1024,\n",
    "    'failure':(counts['00']+counts['11'])/1024\n",
    "}\n",
    "\n",
    "plot_histogram(performance)"
   ]
  },
  {
   "cell_type": "markdown",
   "metadata": {},
   "source": [
    "## Sequential Scheme"
   ]
  },
  {
   "cell_type": "code",
   "execution_count": 49,
   "metadata": {},
   "outputs": [],
   "source": [
    "sqr = QuantumRegister(1)\n",
    "scr = ClassicalRegister(1)\n",
    "sqc = QuantumCircuit(sqr,scr)"
   ]
  },
  {
   "cell_type": "code",
   "execution_count": 50,
   "metadata": {},
   "outputs": [
    {
     "data": {
      "text/plain": [
       "<qiskit._instructionset.InstructionSet at 0x7fd4df523f28>"
      ]
     },
     "execution_count": 50,
     "metadata": {},
     "output_type": "execute_result"
    }
   ],
   "source": [
    "# constructing the circuit\n",
    "\n",
    "sqc.u3(1.1503,6.4850,2.2555,sqr[0])\n",
    "sqc.barrier()\n",
    "\n",
    "# unidentified gate -- now assumed to be R2pi3. if identity then use qc.u1(0,q[0])\n",
    "sqc.u1((2.0/3)*pi,sqr[0])\n",
    "sqc.barrier()\n",
    "\n",
    "sqc.u3(1.231,0,0,sqr[0])   # X\n",
    "sqc.barrier()\n",
    "\n",
    "sqc.u1((2.0/3)*pi,sqr[0]) # U (unidentified gate)\n",
    "sqc.barrier()\n",
    "\n",
    "# measurement\n",
    "sqc.u3(0.7854,6.0214,6.1913,sqr[0])\n",
    "sqc.barrier()\n",
    "\n",
    "sqc.measure(sqr,scr)"
   ]
  },
  {
   "cell_type": "code",
   "execution_count": 51,
   "metadata": {},
   "outputs": [
    {
     "name": "stdout",
     "output_type": "stream",
     "text": [
      "{'1': 3, '0': 1021}\n"
     ]
    },
    {
     "data": {
      "image/png": "[encoded data removed]",
      "text/plain": [
       "<Figure size 432x288 with 1 Axes>"
      ]
     },
     "metadata": {
      "needs_background": "light"
     },
     "output_type": "display_data"
    }
   ],
   "source": [
    "# Running on local simulator\n",
    "backend = Aer.get_backend('qasm_simulator')\n",
    "job = execute(sqc,backend)\n",
    "result = job.result()\n",
    "counts = result.get_counts(sqc)\n",
    "print(counts)\n",
    "\n",
    "plot_histogram(counts)"
   ]
  },
  {
   "cell_type": "markdown",
   "metadata": {},
   "source": [
    "According to the paper 0 implies R2pi3"
   ]
  },
  {
   "cell_type": "code",
   "execution_count": 52,
   "metadata": {},
   "outputs": [
    {
     "name": "stdout",
     "output_type": "stream",
     "text": [
      "{'1': 41, '0': 983}\n"
     ]
    },
    {
     "data": {
      "image/png": "[encoded data removed]",
      "text/plain": [
       "<Figure size 432x288 with 1 Axes>"
      ]
     },
     "metadata": {
      "needs_background": "light"
     },
     "output_type": "display_data"
    }
   ],
   "source": [
    "# Running on IBM\n",
    "backend = IBMQ.get_backend('ibmqx4')\n",
    "job = execute(sqc,backend,max_credits=3)\n",
    "\n",
    "result = job.result()\n",
    "counts = result.get_counts(sqc)\n",
    "print(counts)\n",
    "\n",
    "plot_histogram(counts)"
   ]
  },
  {
   "cell_type": "code",
   "execution_count": null,
   "metadata": {},
   "outputs": [],
   "source": []
  }
 ],
 "metadata": {
  "kernelspec": {
   "display_name": "Python 3",
   "language": "python",
   "name": "python3"
  },
  "language_info": {
   "codemirror_mode": {
    "name": "ipython",
    "version": 3
   },
   "file_extension": ".py",
   "mimetype": "text/x-python",
   "name": "python",
   "nbconvert_exporter": "python",
   "pygments_lexer": "ipython3",
   "version": "3.5.2"
  }
 },
 "nbformat": 4,
 "nbformat_minor": 2
}
